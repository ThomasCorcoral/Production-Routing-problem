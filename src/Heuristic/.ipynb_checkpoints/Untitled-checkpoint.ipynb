{
 "cells": [
  {
   "cell_type": "code",
   "execution_count": 1,
   "id": "687650a5",
   "metadata": {},
   "outputs": [
    {
     "data": {
      "text/plain": [
       "generate_coords (generic function with 1 method)"
      ]
     },
     "execution_count": 1,
     "metadata": {},
     "output_type": "execute_result"
    }
   ],
   "source": [
    "include(\"../readPRP.jl\")\n",
    "include(\"../utils.jl\")"
   ]
  },
  {
   "cell_type": "code",
   "execution_count": 20,
   "id": "609277a8",
   "metadata": {},
   "outputs": [
    {
     "data": {
      "text/plain": [
       "\"test\""
      ]
     },
     "execution_count": 20,
     "metadata": {},
     "output_type": "execute_result"
    }
   ],
   "source": [
    "data = Read_PRP_instance(\"../../PRP_instances/A_014_ABS1_15_3.prp\", false)\n",
    "#data = Read_PRP_instance(\"../../PRP_instances/A_100_ABS94_100_1.prp\", false)\n",
    "#data = Read_PRP_instance(\"../../PRP_instances/B_200_instance16.prp\", false)\n",
    "#data2 = Read_file(\"./PRP_instances/A_014_ABS1_15_3.prp\")\n",
    "demande = data[\"Clients\"].d\n",
    "#demande = data[\"d\"]\n",
    "t = 4\n",
    "heuristique = \"CW\"\n",
    "heurTsp = \"CW\"\n",
    "filename = \"test\""
   ]
  },
  {
   "cell_type": "code",
   "execution_count": 21,
   "id": "7ae106bf",
   "metadata": {},
   "outputs": [
    {
     "data": {
      "text/plain": [
       "\"include(\\\"VRP_Heuristiques.jl\\\")\\nVRP_iteratif(data, demande, t, heuristique, heurTsp)\""
      ]
     },
     "execution_count": 21,
     "metadata": {},
     "output_type": "execute_result"
    }
   ],
   "source": [
    "\"\"\"include(\"VRP_Heuristiques.jl\")\n",
    "VRP_iteratif(data, demande, t, heuristique, heurTsp)\"\"\""
   ]
  },
  {
   "cell_type": "code",
   "execution_count": 22,
   "id": "91d4f7d4",
   "metadata": {},
   "outputs": [
    {
     "data": {
      "text/plain": [
       "true"
      ]
     },
     "execution_count": 22,
     "metadata": {},
     "output_type": "execute_result"
    }
   ],
   "source": [
    "include(\"PDI.jl\")\n",
    "include(\"VRP_Heuristiques.jl\")\n",
    "PDI_H(\"../../PRP_instances/A_014_ABS1_15_3.prp\", heuristique)"
   ]
  },
  {
   "cell_type": "code",
   "execution_count": null,
   "id": "7d39ab42",
   "metadata": {},
   "outputs": [],
   "source": []
  },
  {
   "cell_type": "code",
   "execution_count": null,
   "id": "5cb6aae9",
   "metadata": {},
   "outputs": [],
   "source": []
  }
 ],
 "metadata": {
  "kernelspec": {
   "display_name": "Julia 1.8.2",
   "language": "julia",
   "name": "julia-1.8"
  },
  "language_info": {
   "file_extension": ".jl",
   "mimetype": "application/julia",
   "name": "julia",
   "version": "1.8.2"
  }
 },
 "nbformat": 4,
 "nbformat_minor": 5
}
