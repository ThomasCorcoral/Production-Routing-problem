{
 "cells": [
  {
   "cell_type": "markdown",
   "id": "11a7130b",
   "metadata": {},
   "source": [
    "<center><h1>Test des 3 heuristiques</h1></center>\n",
    "<i>Il y a 1531 fichiers à tester</i>"
   ]
  },
  {
   "cell_type": "code",
   "execution_count": 6,
   "id": "68c790d3",
   "metadata": {},
   "outputs": [
    {
     "data": {
      "text/plain": [
       "test_heuristics_csv (generic function with 1 method)"
      ]
     },
     "execution_count": 6,
     "metadata": {},
     "output_type": "execute_result"
    }
   ],
   "source": [
    "include(\"testHeuristics.jl\")"
   ]
  },
  {
   "cell_type": "code",
   "execution_count": 8,
   "id": "5bc2af38",
   "metadata": {},
   "outputs": [
    {
     "data": {
      "text/html": [
       "<div><div style = \"float: left;\"><span>900×7 DataFrame</span></div><div style = \"float: right;\"><span style = \"font-style: italic;\">875 rows omitted</span></div><div style = \"clear: both;\"></div></div><div class = \"data-frame\" style = \"overflow-x: scroll;\"><table class = \"data-frame\" style = \"margin-bottom: 6px;\"><thead><tr class = \"header\"><th class = \"rowNumber\" style = \"font-weight: bold; text-align: right;\">Row</th><th style = \"text-align: left;\">file</th><th style = \"text-align: left;\">BP_score</th><th style = \"text-align: left;\">CW_score</th><th style = \"text-align: left;\">SECT_score</th><th style = \"text-align: left;\">BP_time</th><th style = \"text-align: left;\">CW_time</th><th style = \"text-align: left;\">SECT_time</th></tr><tr class = \"subheader headerLastRow\"><th class = \"rowNumber\" style = \"font-weight: bold; text-align: right;\"></th><th title = \"Any\" style = \"text-align: left;\">Any</th><th title = \"Any\" style = \"text-align: left;\">Any</th><th title = \"Any\" style = \"text-align: left;\">Any</th><th title = \"Any\" style = \"text-align: left;\">Any</th><th title = \"Any\" style = \"text-align: left;\">Any</th><th title = \"Any\" style = \"text-align: left;\">Any</th><th title = \"Any\" style = \"text-align: left;\">Any</th></tr></thead><tbody><tr><td class = \"rowNumber\" style = \"font-weight: bold; text-align: right;\">1</td><td style = \"text-align: left;\">A_014_#ABS1_15_1.prp</td><td style = \"text-align: left;\">21744.1</td><td style = \"text-align: left;\">15636.0</td><td style = \"text-align: left;\">12422.2</td><td style = \"text-align: left;\">3.7474e-5</td><td style = \"text-align: left;\">0.00303589</td><td style = \"text-align: left;\">0.00018974</td></tr><tr><td class = \"rowNumber\" style = \"font-weight: bold; text-align: right;\">2</td><td style = \"text-align: left;\">A_014_ABS10_15_1.prp</td><td style = \"text-align: left;\">21744.1</td><td style = \"text-align: left;\">15636.0</td><td style = \"text-align: left;\">12422.2</td><td style = \"text-align: left;\">2.7428e-5</td><td style = \"text-align: left;\">0.00273271</td><td style = \"text-align: left;\">0.000140745</td></tr><tr><td class = \"rowNumber\" style = \"font-weight: bold; text-align: right;\">3</td><td style = \"text-align: left;\">A_014_ABS10_15_2.prp</td><td style = \"text-align: left;\">21919.8</td><td style = \"text-align: left;\">18015.0</td><td style = \"text-align: left;\">10612.9</td><td style = \"text-align: left;\">4.8284e-5</td><td style = \"text-align: left;\">0.00348821</td><td style = \"text-align: left;\">0.000181703</td></tr><tr><td class = \"rowNumber\" style = \"font-weight: bold; text-align: right;\">4</td><td style = \"text-align: left;\">A_014_ABS10_15_3.prp</td><td style = \"text-align: left;\">21433.8</td><td style = \"text-align: left;\">12129.3</td><td style = \"text-align: left;\">12560.2</td><td style = \"text-align: left;\">3.1668e-5</td><td style = \"text-align: left;\">0.00288785</td><td style = \"text-align: left;\">0.000149722</td></tr><tr><td class = \"rowNumber\" style = \"font-weight: bold; text-align: right;\">5</td><td style = \"text-align: left;\">A_014_ABS10_15_4.prp</td><td style = \"text-align: left;\">18790.3</td><td style = \"text-align: left;\">13646.2</td><td style = \"text-align: left;\">20682.2</td><td style = \"text-align: left;\">2.7844e-5</td><td style = \"text-align: left;\">0.00271074</td><td style = \"text-align: left;\">0.000140488</td></tr><tr><td class = \"rowNumber\" style = \"font-weight: bold; text-align: right;\">6</td><td style = \"text-align: left;\">A_014_ABS10_15_5.prp</td><td style = \"text-align: left;\">23063.0</td><td style = \"text-align: left;\">16084.9</td><td style = \"text-align: left;\">9447.63</td><td style = \"text-align: left;\">2.7634e-5</td><td style = \"text-align: left;\">0.00298938</td><td style = \"text-align: left;\">0.000175731</td></tr><tr><td class = \"rowNumber\" style = \"font-weight: bold; text-align: right;\">7</td><td style = \"text-align: left;\">A_014_ABS11_15_1.prp</td><td style = \"text-align: left;\">21744.1</td><td style = \"text-align: left;\">15636.0</td><td style = \"text-align: left;\">12422.2</td><td style = \"text-align: left;\">2.4643e-5</td><td style = \"text-align: left;\">0.00257539</td><td style = \"text-align: left;\">0.000130586</td></tr><tr><td class = \"rowNumber\" style = \"font-weight: bold; text-align: right;\">8</td><td style = \"text-align: left;\">A_014_ABS11_15_2.prp</td><td style = \"text-align: left;\">21919.8</td><td style = \"text-align: left;\">18015.0</td><td style = \"text-align: left;\">10612.9</td><td style = \"text-align: left;\">2.3217e-5</td><td style = \"text-align: left;\">0.00254069</td><td style = \"text-align: left;\">0.000120084</td></tr><tr><td class = \"rowNumber\" style = \"font-weight: bold; text-align: right;\">9</td><td style = \"text-align: left;\">A_014_ABS11_15_3.prp</td><td style = \"text-align: left;\">21433.8</td><td style = \"text-align: left;\">12129.3</td><td style = \"text-align: left;\">12560.2</td><td style = \"text-align: left;\">2.2818e-5</td><td style = \"text-align: left;\">0.00240675</td><td style = \"text-align: left;\">0.000114325</td></tr><tr><td class = \"rowNumber\" style = \"font-weight: bold; text-align: right;\">10</td><td style = \"text-align: left;\">A_014_ABS11_15_4.prp</td><td style = \"text-align: left;\">18790.3</td><td style = \"text-align: left;\">13646.2</td><td style = \"text-align: left;\">20682.2</td><td style = \"text-align: left;\">2.979e-5</td><td style = \"text-align: left;\">0.0144801</td><td style = \"text-align: left;\">0.000133279</td></tr><tr><td class = \"rowNumber\" style = \"font-weight: bold; text-align: right;\">11</td><td style = \"text-align: left;\">A_014_ABS11_15_5.prp</td><td style = \"text-align: left;\">23063.0</td><td style = \"text-align: left;\">16084.9</td><td style = \"text-align: left;\">9447.63</td><td style = \"text-align: left;\">2.3819e-5</td><td style = \"text-align: left;\">0.00248113</td><td style = \"text-align: left;\">0.00013203</td></tr><tr><td class = \"rowNumber\" style = \"font-weight: bold; text-align: right;\">12</td><td style = \"text-align: left;\">A_014_ABS12_15_1.prp</td><td style = \"text-align: left;\">17520.9</td><td style = \"text-align: left;\">14894.8</td><td style = \"text-align: left;\">8302.38</td><td style = \"text-align: left;\">2.4981e-5</td><td style = \"text-align: left;\">0.00333719</td><td style = \"text-align: left;\">0.000120249</td></tr><tr><td class = \"rowNumber\" style = \"font-weight: bold; text-align: right;\">13</td><td style = \"text-align: left;\">A_014_ABS12_15_2.prp</td><td style = \"text-align: left;\">19725.6</td><td style = \"text-align: left;\">16175.9</td><td style = \"text-align: left;\">8505.08</td><td style = \"text-align: left;\">2.5972e-5</td><td style = \"text-align: left;\">0.00331844</td><td style = \"text-align: left;\">0.000121724</td></tr><tr><td style = \"text-align: right;\">&vellip;</td><td style = \"text-align: right;\">&vellip;</td><td style = \"text-align: right;\">&vellip;</td><td style = \"text-align: right;\">&vellip;</td><td style = \"text-align: right;\">&vellip;</td><td style = \"text-align: right;\">&vellip;</td><td style = \"text-align: right;\">&vellip;</td><td style = \"text-align: right;\">&vellip;</td></tr><tr><td class = \"rowNumber\" style = \"font-weight: bold; text-align: right;\">889</td><td style = \"text-align: left;\">A_050_ABS84_50_3.prp</td><td style = \"text-align: left;\">53931.0</td><td style = \"text-align: left;\">47199.6</td><td style = \"text-align: left;\">15767.9</td><td style = \"text-align: left;\">9.1427e-5</td><td style = \"text-align: left;\">0.0686794</td><td style = \"text-align: left;\">0.000456975</td></tr><tr><td class = \"rowNumber\" style = \"font-weight: bold; text-align: right;\">890</td><td style = \"text-align: left;\">A_050_ABS84_50_4.prp</td><td style = \"text-align: left;\">51381.6</td><td style = \"text-align: left;\">36296.6</td><td style = \"text-align: left;\">19201.3</td><td style = \"text-align: left;\">9.0772e-5</td><td style = \"text-align: left;\">0.0715177</td><td style = \"text-align: left;\">0.000435288</td></tr><tr><td class = \"rowNumber\" style = \"font-weight: bold; text-align: right;\">891</td><td style = \"text-align: left;\">A_050_ABS84_50_5.prp</td><td style = \"text-align: left;\">57869.3</td><td style = \"text-align: left;\">33547.8</td><td style = \"text-align: left;\">12595.0</td><td style = \"text-align: left;\">9.3846e-5</td><td style = \"text-align: left;\">0.07327</td><td style = \"text-align: left;\">0.000512721</td></tr><tr><td class = \"rowNumber\" style = \"font-weight: bold; text-align: right;\">892</td><td style = \"text-align: left;\">A_050_ABS85_50_1.prp</td><td style = \"text-align: left;\">42799.8</td><td style = \"text-align: left;\">27818.1</td><td style = \"text-align: left;\">15900.0</td><td style = \"text-align: left;\">0.000108593</td><td style = \"text-align: left;\">0.0742874</td><td style = \"text-align: left;\">0.000462008</td></tr><tr><td class = \"rowNumber\" style = \"font-weight: bold; text-align: right;\">893</td><td style = \"text-align: left;\">A_050_ABS85_50_2.prp</td><td style = \"text-align: left;\">46171.3</td><td style = \"text-align: left;\">20585.2</td><td style = \"text-align: left;\">12064.1</td><td style = \"text-align: left;\">9.6818e-5</td><td style = \"text-align: left;\">0.0856384</td><td style = \"text-align: left;\">0.000462489</td></tr><tr><td class = \"rowNumber\" style = \"font-weight: bold; text-align: right;\">894</td><td style = \"text-align: left;\">A_050_ABS85_50_3.prp</td><td style = \"text-align: left;\">43517.7</td><td style = \"text-align: left;\">38918.7</td><td style = \"text-align: left;\">20477.3</td><td style = \"text-align: left;\">9.1575e-5</td><td style = \"text-align: left;\">0.0797679</td><td style = \"text-align: left;\">0.000439574</td></tr><tr><td class = \"rowNumber\" style = \"font-weight: bold; text-align: right;\">895</td><td style = \"text-align: left;\">A_050_ABS85_50_4.prp</td><td style = \"text-align: left;\">37893.9</td><td style = \"text-align: left;\">28173.4</td><td style = \"text-align: left;\">21656.0</td><td style = \"text-align: left;\">8.8471e-5</td><td style = \"text-align: left;\">0.0773974</td><td style = \"text-align: left;\">0.000435472</td></tr><tr><td class = \"rowNumber\" style = \"font-weight: bold; text-align: right;\">896</td><td style = \"text-align: left;\">A_050_ABS85_50_5.prp</td><td style = \"text-align: left;\">42036.7</td><td style = \"text-align: left;\">26853.7</td><td style = \"text-align: left;\">14141.4</td><td style = \"text-align: left;\">8.4743e-5</td><td style = \"text-align: left;\">0.0771422</td><td style = \"text-align: left;\">0.000431011</td></tr><tr><td class = \"rowNumber\" style = \"font-weight: bold; text-align: right;\">897</td><td style = \"text-align: left;\">A_050_ABS86_50_1.prp</td><td style = \"text-align: left;\">36231.8</td><td style = \"text-align: left;\">22851.6</td><td style = \"text-align: left;\">11650.9</td><td style = \"text-align: left;\">8.692e-5</td><td style = \"text-align: left;\">0.0758672</td><td style = \"text-align: left;\">0.00043821</td></tr><tr><td class = \"rowNumber\" style = \"font-weight: bold; text-align: right;\">898</td><td style = \"text-align: left;\">A_050_ABS86_50_2.prp</td><td style = \"text-align: left;\">36661.2</td><td style = \"text-align: left;\">18169.6</td><td style = \"text-align: left;\">7352.09</td><td style = \"text-align: left;\">8.9908e-5</td><td style = \"text-align: left;\">0.0752397</td><td style = \"text-align: left;\">0.000449644</td></tr><tr><td class = \"rowNumber\" style = \"font-weight: bold; text-align: right;\">899</td><td style = \"text-align: left;\">A_050_ABS86_50_3.prp</td><td style = \"text-align: left;\">35523.0</td><td style = \"text-align: left;\">31777.2</td><td style = \"text-align: left;\">10979.3</td><td style = \"text-align: left;\">0.000105132</td><td style = \"text-align: left;\">0.0825723</td><td style = \"text-align: left;\">0.000475914</td></tr><tr><td class = \"rowNumber\" style = \"font-weight: bold; text-align: right;\">900</td><td style = \"text-align: left;\">A_050_ABS86_50_4.prp</td><td style = \"text-align: left;\">29133.6</td><td style = \"text-align: left;\">8123.23</td><td style = \"text-align: left;\">17617.3</td><td style = \"text-align: left;\">9.5566e-5</td><td style = \"text-align: left;\">0.079758</td><td style = \"text-align: left;\">0.000478952</td></tr></tbody></table></div>"
      ],
      "text/latex": [
       "\\begin{tabular}{r|ccccccc}\n",
       "\t& file & BP\\_score & CW\\_score & SECT\\_score & BP\\_time & CW\\_time & SECT\\_time\\\\\n",
       "\t\\hline\n",
       "\t& Any & Any & Any & Any & Any & Any & Any\\\\\n",
       "\t\\hline\n",
       "\t1 & A\\_014\\_\\#ABS1\\_15\\_1.prp & 21744.1 & 15636.0 & 12422.2 & 3.7474e-5 & 0.00303589 & 0.00018974 \\\\\n",
       "\t2 & A\\_014\\_ABS10\\_15\\_1.prp & 21744.1 & 15636.0 & 12422.2 & 2.7428e-5 & 0.00273271 & 0.000140745 \\\\\n",
       "\t3 & A\\_014\\_ABS10\\_15\\_2.prp & 21919.8 & 18015.0 & 10612.9 & 4.8284e-5 & 0.00348821 & 0.000181703 \\\\\n",
       "\t4 & A\\_014\\_ABS10\\_15\\_3.prp & 21433.8 & 12129.3 & 12560.2 & 3.1668e-5 & 0.00288785 & 0.000149722 \\\\\n",
       "\t5 & A\\_014\\_ABS10\\_15\\_4.prp & 18790.3 & 13646.2 & 20682.2 & 2.7844e-5 & 0.00271074 & 0.000140488 \\\\\n",
       "\t6 & A\\_014\\_ABS10\\_15\\_5.prp & 23063.0 & 16084.9 & 9447.63 & 2.7634e-5 & 0.00298938 & 0.000175731 \\\\\n",
       "\t7 & A\\_014\\_ABS11\\_15\\_1.prp & 21744.1 & 15636.0 & 12422.2 & 2.4643e-5 & 0.00257539 & 0.000130586 \\\\\n",
       "\t8 & A\\_014\\_ABS11\\_15\\_2.prp & 21919.8 & 18015.0 & 10612.9 & 2.3217e-5 & 0.00254069 & 0.000120084 \\\\\n",
       "\t9 & A\\_014\\_ABS11\\_15\\_3.prp & 21433.8 & 12129.3 & 12560.2 & 2.2818e-5 & 0.00240675 & 0.000114325 \\\\\n",
       "\t10 & A\\_014\\_ABS11\\_15\\_4.prp & 18790.3 & 13646.2 & 20682.2 & 2.979e-5 & 0.0144801 & 0.000133279 \\\\\n",
       "\t11 & A\\_014\\_ABS11\\_15\\_5.prp & 23063.0 & 16084.9 & 9447.63 & 2.3819e-5 & 0.00248113 & 0.00013203 \\\\\n",
       "\t12 & A\\_014\\_ABS12\\_15\\_1.prp & 17520.9 & 14894.8 & 8302.38 & 2.4981e-5 & 0.00333719 & 0.000120249 \\\\\n",
       "\t13 & A\\_014\\_ABS12\\_15\\_2.prp & 19725.6 & 16175.9 & 8505.08 & 2.5972e-5 & 0.00331844 & 0.000121724 \\\\\n",
       "\t14 & A\\_014\\_ABS12\\_15\\_3.prp & 18884.6 & 2877.07 & 12504.0 & 2.4307e-5 & 0.00279714 & 0.000117448 \\\\\n",
       "\t15 & A\\_014\\_ABS12\\_15\\_4.prp & 17276.9 & 2636.29 & 16838.9 & 3.4984e-5 & 0.00324774 & 0.000178088 \\\\\n",
       "\t16 & A\\_014\\_ABS12\\_15\\_5.prp & 19786.4 & 13313.8 & 8810.59 & 2.5786e-5 & 0.003677 & 0.000125685 \\\\\n",
       "\t17 & A\\_014\\_ABS13\\_15\\_1.prp & 43458.9 & 29772.8 & 24793.1 & 2.4607e-5 & 0.00262775 & 0.000122262 \\\\\n",
       "\t18 & A\\_014\\_ABS13\\_15\\_2.prp & 43762.6 & 35980.2 & 21188.5 & 2.6158e-5 & 0.0027941 & 0.00014102 \\\\\n",
       "\t19 & A\\_014\\_ABS13\\_15\\_3.prp & 42822.7 & 24193.4 & 25071.0 & 2.3776e-5 & 0.00250229 & 0.000121063 \\\\\n",
       "\t20 & A\\_014\\_ABS13\\_15\\_4.prp & 37575.6 & 27239.2 & 41361.6 & 7.2936e-5 & 0.00294036 & 0.000163798 \\\\\n",
       "\t21 & A\\_014\\_ABS13\\_15\\_5.prp & 46082.5 & 32139.1 & 18861.6 & 2.5614e-5 & 0.00247497 & 0.000117526 \\\\\n",
       "\t22 & A\\_014\\_ABS14\\_15\\_1.prp & 43458.9 & 29772.8 & 24793.1 & 2.3221e-5 & 0.00236547 & 0.000115938 \\\\\n",
       "\t23 & A\\_014\\_ABS14\\_15\\_2.prp & 43762.6 & 35980.2 & 21188.5 & 2.3889e-5 & 0.00245083 & 0.000132312 \\\\\n",
       "\t24 & A\\_014\\_ABS14\\_15\\_3.prp & 42822.7 & 24193.4 & 25071.0 & 2.5703e-5 & 0.00307293 & 0.000119174 \\\\\n",
       "\t25 & A\\_014\\_ABS14\\_15\\_4.prp & 37575.6 & 27239.2 & 41361.6 & 2.3995e-5 & 0.00246577 & 0.000117993 \\\\\n",
       "\t26 & A\\_014\\_ABS14\\_15\\_5.prp & 46082.5 & 32139.1 & 18861.6 & 2.2604e-5 & 0.00242447 & 0.000113784 \\\\\n",
       "\t27 & A\\_014\\_ABS15\\_15\\_1.prp & 35009.9 & 28298.2 & 16566.9 & 2.5486e-5 & 0.00339074 & 0.000135814 \\\\\n",
       "\t28 & A\\_014\\_ABS15\\_15\\_2.prp & 39386.9 & 32295.6 & 16970.6 & 2.5675e-5 & 0.00331569 & 0.000120757 \\\\\n",
       "\t29 & A\\_014\\_ABS15\\_15\\_3.prp & 37732.9 & 5737.96 & 24963.9 & 2.427e-5 & 0.00280347 & 0.000116715 \\\\\n",
       "\t30 & A\\_014\\_ABS15\\_15\\_4.prp & 34537.9 & 5258.73 & 33666.5 & 2.4193e-5 & 0.00277498 & 0.000115326 \\\\\n",
       "\t$\\dots$ & $\\dots$ & $\\dots$ & $\\dots$ & $\\dots$ & $\\dots$ & $\\dots$ & $\\dots$ \\\\\n",
       "\\end{tabular}\n"
      ],
      "text/plain": [
       "\u001b[1m900×7 DataFrame\u001b[0m\n",
       "\u001b[1m Row \u001b[0m│\u001b[1m file                 \u001b[0m\u001b[1m BP_score \u001b[0m\u001b[1m CW_score \u001b[0m\u001b[1m SECT_score \u001b[0m\u001b[1m BP_time     \u001b[0m\u001b[1m CW_t\u001b[0m ⋯\n",
       "     │\u001b[90m Any                  \u001b[0m\u001b[90m Any      \u001b[0m\u001b[90m Any      \u001b[0m\u001b[90m Any        \u001b[0m\u001b[90m Any         \u001b[0m\u001b[90m Any \u001b[0m ⋯\n",
       "─────┼──────────────────────────────────────────────────────────────────────────\n",
       "   1 │ A_014_#ABS1_15_1.prp  21744.1   15636.0   12422.2     3.7474e-5    0.00 ⋯\n",
       "   2 │ A_014_ABS10_15_1.prp  21744.1   15636.0   12422.2     2.7428e-5    0.00\n",
       "   3 │ A_014_ABS10_15_2.prp  21919.8   18015.0   10612.9     4.8284e-5    0.00\n",
       "   4 │ A_014_ABS10_15_3.prp  21433.8   12129.3   12560.2     3.1668e-5    0.00\n",
       "   5 │ A_014_ABS10_15_4.prp  18790.3   13646.2   20682.2     2.7844e-5    0.00 ⋯\n",
       "   6 │ A_014_ABS10_15_5.prp  23063.0   16084.9   9447.63     2.7634e-5    0.00\n",
       "   7 │ A_014_ABS11_15_1.prp  21744.1   15636.0   12422.2     2.4643e-5    0.00\n",
       "   8 │ A_014_ABS11_15_2.prp  21919.8   18015.0   10612.9     2.3217e-5    0.00\n",
       "   9 │ A_014_ABS11_15_3.prp  21433.8   12129.3   12560.2     2.2818e-5    0.00 ⋯\n",
       "  10 │ A_014_ABS11_15_4.prp  18790.3   13646.2   20682.2     2.979e-5     0.01\n",
       "  11 │ A_014_ABS11_15_5.prp  23063.0   16084.9   9447.63     2.3819e-5    0.00\n",
       "  ⋮  │          ⋮               ⋮         ⋮          ⋮            ⋮            ⋱\n",
       " 891 │ A_050_ABS84_50_5.prp  57869.3   33547.8   12595.0     9.3846e-5    0.07\n",
       " 892 │ A_050_ABS85_50_1.prp  42799.8   27818.1   15900.0     0.000108593  0.07 ⋯\n",
       " 893 │ A_050_ABS85_50_2.prp  46171.3   20585.2   12064.1     9.6818e-5    0.08\n",
       " 894 │ A_050_ABS85_50_3.prp  43517.7   38918.7   20477.3     9.1575e-5    0.07\n",
       " 895 │ A_050_ABS85_50_4.prp  37893.9   28173.4   21656.0     8.8471e-5    0.07\n",
       " 896 │ A_050_ABS85_50_5.prp  42036.7   26853.7   14141.4     8.4743e-5    0.07 ⋯\n",
       " 897 │ A_050_ABS86_50_1.prp  36231.8   22851.6   11650.9     8.692e-5     0.07\n",
       " 898 │ A_050_ABS86_50_2.prp  36661.2   18169.6   7352.09     8.9908e-5    0.07\n",
       " 899 │ A_050_ABS86_50_3.prp  35523.0   31777.2   10979.3     0.000105132  0.08\n",
       " 900 │ A_050_ABS86_50_4.prp  29133.6   8123.23   17617.3     9.5566e-5    0.07 ⋯\n",
       "\u001b[36m                                                  2 columns and 879 rows omitted\u001b[0m"
      ]
     },
     "execution_count": 8,
     "metadata": {},
     "output_type": "execute_result"
    }
   ],
   "source": [
    "test_heuristics_csv(900, \"../../PRP_instances\") # Ici on test les 900 premiers fichiers"
   ]
  }
 ],
 "metadata": {
  "kernelspec": {
   "display_name": "Julia 1.8.2",
   "language": "julia",
   "name": "julia-1.8"
  },
  "language_info": {
   "file_extension": ".jl",
   "mimetype": "application/julia",
   "name": "julia",
   "version": "1.8.2"
  }
 },
 "nbformat": 4,
 "nbformat_minor": 5
}
